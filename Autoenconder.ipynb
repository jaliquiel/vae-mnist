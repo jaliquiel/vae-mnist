{
 "cells": [
  {
   "cell_type": "code",
   "execution_count": 7,
   "metadata": {},
   "outputs": [],
   "source": [
    "import numpy as np\n",
    "import random\n",
    "import time\n",
    "import torch\n",
    "import torch.nn as nn\n",
    "import torch.nn.functional as F\n",
    "import torchvision\n",
    "import matplotlib.pyplot as plt\n",
    "import torch.optim as optim\n",
    "from torch.utils.data import DataLoader, Dataset, TensorDataset\n",
    "from torch.autograd import Variable\n",
    "import itertools\n",
    "\n",
    "device = torch.device(\"cuda:0\" if torch.cuda.is_available() else \"cpu\")\n",
    "#device = \"cpu\"\n",
    "\n",
    "seed_value = 1\n",
    "np.random.seed(seed_value) # cpu vars\n",
    "torch.manual_seed(seed_value) # cpu  vars\n",
    "random.seed(seed_value) # Python\n",
    "    \n",
    "    #if use_cuda: \n",
    "torch.cuda.manual_seed_all(seed_value) # gpu vars\n",
    "torch.backends.cudnn.deterministic = True  #needed\n",
    "torch.backends.cudnn.benchmark = False\n",
    "\n",
    "#random_seed(1234, True)\n",
    "\n",
    "# random_seed(1234, False)\n",
    "#torch.manual_seed(0)\n",
    "\n",
    "%matplotlib inline"
   ]
  },
  {
   "cell_type": "code",
   "execution_count": 8,
   "metadata": {},
   "outputs": [],
   "source": [
    "# To-Do:  add prof. dataset .npy\n",
    "\n",
    "class MyDataset(Dataset):\n",
    "    def __init__(self, file_path):\n",
    "        self.files = file_path\n",
    "        self.data = np.load(self.files)\n",
    "        \n",
    "    def __getitem__(self, index):\n",
    "        x = torch.from_numpy(self.data).float()\n",
    "        return x[index]\n",
    "        \n",
    "    def __len__(self):\n",
    "        return len(self.data)\n",
    "\n",
    "\n",
    "class CustomView:\n",
    "    def __init__(self,new_size):\n",
    "        self.new_size = new_size\n",
    "    def __call__(self, img):\n",
    "        return torch.reshape(img, self.new_size)"
   ]
  },
  {
   "cell_type": "code",
   "execution_count": 21,
   "metadata": {},
   "outputs": [],
   "source": [
    "batch_size = 100\n",
    "transform = [torchvision.transforms.ToTensor(), CustomView((-1,))]\n",
    "mnist_trainset = MyDataset('mnist_train_images.npy')\n",
    "train_loader= torch.utils.data.DataLoader(mnist_trainset, batch_size=batch_size, shuffle=True)\n",
    "\n",
    "test_batch_size = 16\n",
    "test_loader = torch.utils.data.DataLoader(mnist_trainset,batch_size=test_batch_size, shuffle=False)"
   ]
  },
  {
   "cell_type": "code",
   "execution_count": 23,
   "metadata": {},
   "outputs": [
    {
     "name": "stdout",
     "output_type": "stream",
     "text": [
      "torch.Size([16, 784])\n"
     ]
    },
    {
     "data": {
      "text/plain": [
       "'\\nbatches, channels, dim_x, dim_y\\nbatches=image.shape[0], (flatten(dim_x, dim_y))\\n'"
      ]
     },
     "execution_count": 23,
     "metadata": {},
     "output_type": "execute_result"
    }
   ],
   "source": [
    "print(next(iter(test_loader)).size())\n",
    "\n",
    "'''\n",
    "batches, channels, dim_x, dim_y\n",
    "batches=image.shape[0], (flatten(dim_x, dim_y))\n",
    "'''"
   ]
  },
  {
   "cell_type": "code",
   "execution_count": 11,
   "metadata": {},
   "outputs": [],
   "source": [
    "class VAE(nn.Module):\n",
    "    def __init__(self,num_inputs, num_hidden, code_size, drop_prob):\n",
    "        super(VAE, self).__init__()\n",
    "        self.num_inputs = num_inputs\n",
    "        self.num_hidden = num_hidden\n",
    "        self.code_size = code_size\n",
    "        self.drop_prob = drop_prob\n",
    "\n",
    "        self.Q = nn.Linear(self.num_inputs, self.num_hidden)\n",
    "\n",
    "        self.mu = nn.Linear(self.num_hidden, self.code_size)\n",
    "        self.var = nn.Linear(self.num_hidden, self.code_size)\n",
    "          \n",
    "        self.P = nn.Linear(self.code_size, self.num_hidden)\n",
    "        self.output = nn.Linear(self.num_hidden, self.num_inputs)\n",
    "        \n",
    "        \n",
    "        self.dropout = nn.Dropout(self.drop_prob)\n",
    "        self.sigmoid = nn.Sigmoid()\n",
    "        \n",
    "    def encoder(self, x):\n",
    "        x = self.dropout(torch.tanh(self.Q(x)))\n",
    "        mu = self.dropout(torch.tanh(self.mu(x)))\n",
    "        sigma = self.dropout(torch.tanh(self.var(x))) # should we multiple for 0.5 or hjust exp\n",
    "        return mu, sigma\n",
    "    \n",
    "    def decoder(self, z):\n",
    "        p = torch.tanh(self.P(z))\n",
    "        out = self.sigmoid(self.output(p))\n",
    "        return out\n",
    "        \n",
    "    def forward(self, x):\n",
    "        # Max pooling over a (2, 2) window\n",
    "        mu, sigma = self.encoder(x)\n",
    "        z = torch.empty(self.code_size).normal_(mean=0,std=1).to(device) * torch.exp(sigma) + mu #[batch, L=monte carlo steps, z_dim]\n",
    "        out = self.decoder(z)\n",
    "        return out, mu, sigma"
   ]
  },
  {
   "cell_type": "code",
   "execution_count": 12,
   "metadata": {},
   "outputs": [],
   "source": [
    "def criterion(output, ground_truth, mu, var, L):\n",
    "    # what is the shape of my output??\n",
    "#     log_like = torch.log() # get the log loss between each vector between the output and the ground_truth\n",
    "    \n",
    "    # todo change this *****************\n",
    "    BCE = F.binary_cross_entropy(output, ground_truth.view(-1, 784), reduction='sum')\n",
    "#     KLD = -0.5 * torch.sum(1 + torch.log(var**2) - mu**2 - var**2)\n",
    "    KLD = -0.5 * torch.sum(1 + var - mu**2 - torch.exp(var))\n",
    "    \n",
    "#     todo change this *****************\n",
    "\n",
    "    return (L*BCE) + KLD"
   ]
  },
  {
   "cell_type": "code",
   "execution_count": 13,
   "metadata": {},
   "outputs": [],
   "source": [
    "def epoch_time(init_time, end_time):\n",
    "    elapsed_time = end_time - init_time\n",
    "    elapsed_mins = int(elapsed_time / 60)\n",
    "    elapsed_secs = int(elapsed_time - (elapsed_mins * 60))\n",
    "    return elapsed_mins, elapsed_secs"
   ]
  },
  {
   "cell_type": "code",
   "execution_count": 14,
   "metadata": {},
   "outputs": [],
   "source": [
    "def training(loader, model, optimizer, L):\n",
    "    train_loss = 0\n",
    "    train_losses = []\n",
    "        \n",
    "    model.train()\n",
    "    for i, images in enumerate(loader, start=1):\n",
    "        model.zero_grad()\n",
    "        images = images.to(device)\n",
    "            \n",
    "        outputs, mu, var = model(images)\n",
    "        loss = criterion(outputs, images, mu, var, L).to(device)\n",
    "            \n",
    "        loss.backward()\n",
    "        optimizer.step()\n",
    "            \n",
    "        train_loss += loss.detach().item()\n",
    "        \n",
    "    train_loss = train_loss/i\n",
    "    train_losses.append(train_loss)\n",
    "    \n",
    "    return train_loss, train_losses    \n",
    "    "
   ]
  },
  {
   "cell_type": "code",
   "execution_count": 16,
   "metadata": {},
   "outputs": [
    {
     "name": "stdout",
     "output_type": "stream",
     "text": [
      "Drop_ prob [0.05], Learning Rate[0.001], Epochs[1]\n",
      "Epoch: 00 | Epoch Time: 0m 3s\n",
      "\t Train Loss:2696.8653\n",
      "\t\t Better accuracy: 2696.8653058416194\n",
      "Drop_ prob [0.05], Learning Rate[0.001], Epochs[1]\n"
     ]
    },
    {
     "name": "stderr",
     "output_type": "stream",
     "text": [
      "/opt/conda/envs/fastai/lib/python3.7/site-packages/torch/serialization.py:360: UserWarning: Couldn't retrieve source code for container of type VAE. It won't be checked for correctness upon loading.\n",
      "  \"type \" + obj.__name__ + \". It won't be checked \"\n"
     ]
    },
    {
     "name": "stdout",
     "output_type": "stream",
     "text": [
      "Epoch: 00 | Epoch Time: 0m 2s\n",
      "\t Train Loss:7106.0970\n",
      "Drop_ prob [0.05], Learning Rate[0.001], Epochs[1]\n",
      "Epoch: 00 | Epoch Time: 0m 2s\n",
      "\t Train Loss:11274.2256\n",
      "Drop_ prob [0.05], Learning Rate[0.001], Epochs[1]\n",
      "Epoch: 00 | Epoch Time: 0m 2s\n",
      "\t Train Loss:15547.3677\n",
      "Drop_ prob [0.05], Learning Rate[0.001], Epochs[1]\n",
      "Epoch: 00 | Epoch Time: 0m 2s\n",
      "\t Train Loss:21699.9740\n",
      "torch.Size([1, 784])\n"
     ]
    },
    {
     "data": {
      "image/png": "[encoded data removed]",
      "text/plain": [
       "<Figure size 432x288 with 1 Axes>"
      ]
     },
     "metadata": {
      "needs_background": "light"
     },
     "output_type": "display_data"
    }
   ],
   "source": [
    "def main():\n",
    "    num_inputs=784 \n",
    "    num_hidden=200 \n",
    "    code_size=32 \n",
    "    \n",
    "    drop_probs = [0.05]\n",
    "    learning_rates = [1e-3]\n",
    "    epochs = [1]\n",
    "    L = [0.1, 0.3, 0.5, 0.7, 1]\n",
    "        \n",
    "    hyperparams = list(itertools.product(drop_probs, learning_rates,epochs, L))     \n",
    "    best_train_loss = float('inf')\n",
    "    \n",
    "    for drop_prob, lr, epochs, l in hyperparams:\n",
    "        \n",
    "        model = VAE(num_inputs=num_inputs, num_hidden=num_hidden, code_size=code_size, drop_prob=drop_prob).to(device)    \n",
    "        optimizer = optim.Adam(model.parameters(), lr=lr)    \n",
    "        \n",
    "        print('Drop_ prob [{}], Learning Rate[{}], Epochs[{}]'.format(drop_prob, lr, epochs)) \n",
    "        \n",
    "        for epoch in range(epochs):\n",
    "            init_timer=time.time()\n",
    "\n",
    "            train_loss, train_losses = training(train_loader, model, optimizer, l)\n",
    "\n",
    "            end_timer = time.time()\n",
    "            epoch_mins, epoch_secs = epoch_time(init_timer, end_timer)\n",
    "\n",
    "            print(f'Epoch: {epoch:02} | Epoch Time: {epoch_mins}m {epoch_secs}s')\n",
    "            print('\\t Train Loss:%.4f'%(train_loss))\n",
    "            \n",
    "            checkpoint = {'model':model,'state_dict':model.state_dict(), 'optimizer':optimizer.state_dict()}\n",
    "            torch.save(checkpoint, f'checkpoint_{epoch}_{lr}_{drop_probs}_{l}.pth')\n",
    "            \n",
    "            if train_loss < best_train_loss:\n",
    "                best_train_loss = train_loss\n",
    "                print(f\"\\t\\t Better accuracy: {best_train_loss}\")\n",
    "                checkpoint = {'model':model,\n",
    "                              'train_loss':best_train_loss,\n",
    "                              'hyperparams': [drop_prob, lr, epochs],\n",
    "                              'state_dict':model.state_dict(),\n",
    "                              'optimizer':optimizer.state_dict()}\n",
    "\n",
    "                torch.save(checkpoint, 'last_checkpoint.pth')\n",
    "        \n",
    "    example = torch.rand(1,32).to(device)\n",
    "    example = model.decoder(example)\n",
    "    print(example.size())\n",
    "    example = example.cpu().detach().numpy().reshape(28,28)\n",
    "    plt.imshow(example, cmap='gray', interpolation='none')\n",
    "    plt.show()\n",
    "\n",
    "        \n",
    "if __name__ == '__main__':\n",
    "    main()"
   ]
  },
  {
   "cell_type": "code",
   "execution_count": 17,
   "metadata": {},
   "outputs": [],
   "source": [
    "def load_checkpoint(filepath):\n",
    "    checkpoint = torch.load(filepath)\n",
    "    model = checkpoint['model']\n",
    "    model.load_state_dict(checkpoint['state_dict'])\n",
    "    print(checkpoint['train_loss'])\n",
    "    drop_prob, lr, epochs = checkpoint['hyperparams']\n",
    "    print('Drop_ prob [{}], Learning Rate[{}], Epochs[{}]'.format(drop_prob, lr, epochs)) \n",
    "    return model"
   ]
  },
  {
   "cell_type": "code",
   "execution_count": 18,
   "metadata": {},
   "outputs": [
    {
     "name": "stdout",
     "output_type": "stream",
     "text": [
      "2696.8653058416194\n",
      "Drop_ prob [0.05], Learning Rate[0.001], Epochs[1]\n"
     ]
    }
   ],
   "source": [
    "model = load_checkpoint('last_checkpoint.pth')\n",
    "\n",
    "def generator(model):\n",
    "    z=torch.randn(1,32).to(device) \n",
    "    rand_sample = model.decoder(z)\n",
    "    return rand_sample.cpu().detach().numpy().reshape(28,28)\n",
    "\n",
    "# best hyperparameters so far\n",
    "# 1747.598043359375\n",
    "# Drop_ prob [0.01], Learning Rate[0.001], Epochs[100]\n"
   ]
  },
  {
   "cell_type": "code",
   "execution_count": 24,
   "metadata": {},
   "outputs": [
    {
     "data": {
      "image/png": "[encoded data removed]",
      "text/plain": [
       "<Figure size 432x288 with 1 Axes>"
      ]
     },
     "metadata": {
      "needs_background": "light"
     },
     "output_type": "display_data"
    }
   ],
   "source": [
    "image = np.zeros((28,1))\n",
    "images_2 = np.zeros((28,1))\n",
    "generated_images = np.zeros((28,1))\n",
    "\n",
    "for img in next(iter(test_loader)):\n",
    "    a = img.numpy().reshape(28,28)\n",
    "    image = np.concatenate((image,a), axis=1)\n",
    "    # recreate the images\n",
    "    outputs, mu, var  = model(img.to(device))\n",
    "    images_2 = np.concatenate((images_2, outputs.cpu().detach().numpy().reshape(28,28)),axis=1)\n",
    "    # generate images\n",
    "    generated_images = np.concatenate((generated_images, generator(model)),axis=1)\n",
    "\n",
    "a = np.vstack((image,images_2))\n",
    "a = np.vstack((a,generated_images))\n",
    "    \n",
    "plt.imshow(a, cmap='gray', interpolation='none')\n",
    "plt.show()\n"
   ]
  },
  {
   "cell_type": "code",
   "execution_count": 290,
   "metadata": {},
   "outputs": [],
   "source": [
    "# generator must have the mu and std values saved to later use on the decoder()?\n",
    "# L=monte carlos step can be assumed ad 1 based on paper, should we still code the L implementation or assumed is one?\n",
    "# can we load the mnist dataset using pytorch loader, in  order to used our custom Dataset to maker easier minibatches?\n",
    "\n",
    "#how was your lowest loss?\n",
    "#which hyperparamter are free to change?\n",
    "# - what was your dropout prob"
   ]
  }
 ],
 "metadata": {
  "kernelspec": {
   "display_name": "Python 3",
   "language": "python",
   "name": "python3"
  },
  "language_info": {
   "codemirror_mode": {
    "name": "ipython",
    "version": 3
   },
   "file_extension": ".py",
   "mimetype": "text/x-python",
   "name": "python",
   "nbconvert_exporter": "python",
   "pygments_lexer": "ipython3",
   "version": "3.7.6"
  }
 },
 "nbformat": 4,
 "nbformat_minor": 4
}
